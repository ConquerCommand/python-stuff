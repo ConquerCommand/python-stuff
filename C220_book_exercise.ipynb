{
  "nbformat": 4,
  "nbformat_minor": 0,
  "metadata": {
    "colab": {
      "provenance": []
    },
    "kernelspec": {
      "name": "python3",
      "display_name": "Python 3"
    },
    "language_info": {
      "name": "python"
    }
  },
  "cells": [
    {
      "cell_type": "code",
      "execution_count": null,
      "metadata": {
        "colab": {
          "base_uri": "https://localhost:8080/"
        },
        "id": "itG42bzZGj_y",
        "outputId": "a504c57a-d396-4793-9a6d-4ed95d5e0418"
      },
      "outputs": [
        {
          "output_type": "stream",
          "name": "stdout",
          "text": [
            "6 2 85 25 1 32 54 6 85 2\n",
            "7\n"
          ]
        }
      ],
      "source": [
        "#1.1\n",
        "import numpy as np\n",
        "a=np.array(input().split( ), dtype=int)\n",
        "d={}\n",
        "c=0\n",
        "for i in a:\n",
        "  if i not in d:\n",
        "    d[i]=1\n",
        "    c+=1\n",
        "print(c)"
      ]
    },
    {
      "cell_type": "code",
      "source": [
        "#1.2\n",
        "import numpy as np\n",
        "a=np.array([1, -1, 3, 2, -7, -5, 11, 6])\n",
        "l1=[]\n",
        "l2=[]\n",
        "for i in a:\n",
        "  if i>0:\n",
        "    l1.append(i)\n",
        "  else:\n",
        "    l2.append(i)\n",
        "l=l1+l2\n",
        "l"
      ],
      "metadata": {
        "colab": {
          "base_uri": "https://localhost:8080/"
        },
        "id": "QVOFCP-4TgKE",
        "outputId": "9b43296e-2e62-4e32-c91d-c965a4cec2ea"
      },
      "execution_count": null,
      "outputs": [
        {
          "output_type": "execute_result",
          "data": {
            "text/plain": [
              "[1, 3, 2, 11, 6, -1, -7, -5]"
            ]
          },
          "metadata": {},
          "execution_count": 10
        }
      ]
    },
    {
      "cell_type": "code",
      "source": [
        "#1.3\n",
        "import numpy as np\n",
        "a=np.array([1,2,3,4,5,6,7,8,9,10])\n",
        "N = 10\n",
        "S = 15\n",
        "c=0\n",
        "p=-1\n",
        "for i in range(N):\n",
        "  p+=1\n",
        "  if c==S:\n",
        "    break\n",
        "  else:\n",
        "    for j in range(p,N):\n",
        "      c+=a[j]\n",
        "      if c>S:\n",
        "        c=0\n",
        "        break\n",
        "      elif c==S:\n",
        "        print(p+1,j+1)\n",
        "        break"
      ],
      "metadata": {
        "colab": {
          "base_uri": "https://localhost:8080/"
        },
        "id": "wpNX7bYlYKhV",
        "outputId": "ee2a1b2c-3df8-4c9d-b2fc-b6e158452649"
      },
      "execution_count": null,
      "outputs": [
        {
          "output_type": "stream",
          "name": "stdout",
          "text": [
            "1 5\n"
          ]
        }
      ]
    },
    {
      "cell_type": "code",
      "source": [
        "#1.4\n",
        "import numpy as np\n",
        "a=np.array([1, 1, 1, 1, 1])\n",
        "N=5\n",
        "x=1\n",
        "f=0\n",
        "for i in a:\n",
        "  if i==x:\n",
        "    f+=1\n",
        "print(f)"
      ],
      "metadata": {
        "id": "vtRP9L6RkZ73",
        "colab": {
          "base_uri": "https://localhost:8080/"
        },
        "outputId": "773be484-032c-47a7-e9fa-39874f72ecde"
      },
      "execution_count": null,
      "outputs": [
        {
          "output_type": "stream",
          "name": "stdout",
          "text": [
            "5\n"
          ]
        }
      ]
    },
    {
      "cell_type": "code",
      "source": [
        "#1.5\n",
        "import numpy as np\n",
        "a=np.array([7, 10, 4, 3, 20, 15])\n",
        "a.sort()\n",
        "K = 3\n",
        "print(a[K-1])"
      ],
      "metadata": {
        "id": "4ZIq0HNsK7ZX",
        "colab": {
          "base_uri": "https://localhost:8080/"
        },
        "outputId": "453241ad-a7eb-4e26-83ae-61280bd19da8"
      },
      "execution_count": null,
      "outputs": [
        {
          "output_type": "stream",
          "name": "stdout",
          "text": [
            "7\n"
          ]
        }
      ]
    },
    {
      "cell_type": "code",
      "source": [
        "#1.6\n",
        "import numpy as np\n",
        "a=np.array([0, 2, 1, 2, 0])\n",
        "a.sort()\n",
        "print(a)"
      ],
      "metadata": {
        "id": "3kUJYAw6MSGN",
        "colab": {
          "base_uri": "https://localhost:8080/"
        },
        "outputId": "e2ba518e-4ed3-493e-ae05-0bca747469e6"
      },
      "execution_count": null,
      "outputs": [
        {
          "output_type": "stream",
          "name": "stdout",
          "text": [
            "[0 0 1 2 2]\n"
          ]
        }
      ]
    },
    {
      "cell_type": "code",
      "source": [
        "#1.7\n",
        "import numpy as np\n",
        "a=np.array([3,0,0,2,0,4] )\n",
        "N=6\n",
        "if a[0]>a[-1]:\n",
        "  s=a[-1]\n",
        "else:\n",
        "  s=a[0]\n",
        "b=0\n",
        "for i in a:\n",
        "  if i<=s:\n",
        "    b+=i\n",
        "print((N-2)*s-b)"
      ],
      "metadata": {
        "id": "8cuA9YjiMmC6",
        "colab": {
          "base_uri": "https://localhost:8080/"
        },
        "outputId": "7f671181-48cd-4744-8ada-5d9cce69ff29"
      },
      "execution_count": null,
      "outputs": [
        {
          "output_type": "stream",
          "name": "stdout",
          "text": [
            "7\n"
          ]
        }
      ]
    },
    {
      "cell_type": "code",
      "source": [
        "#1.8\n",
        "import numpy as np\n",
        "a=np.array([1,2,3,4,5])\n",
        "n=5\n",
        "l=[]\n",
        "for i in a:\n",
        "  l.append(i)\n",
        "for i in range(1,len(l)):\n",
        "  l[i],l[i-1]=l[i-1],l[i]\n",
        "print(np.array(l))"
      ],
      "metadata": {
        "id": "8Ct9WWiSQKaQ",
        "colab": {
          "base_uri": "https://localhost:8080/"
        },
        "outputId": "d42248fe-85c5-46af-9803-f36683b4b763"
      },
      "execution_count": null,
      "outputs": [
        {
          "output_type": "stream",
          "name": "stdout",
          "text": [
            "[2 3 4 5 1]\n"
          ]
        }
      ]
    },
    {
      "cell_type": "code",
      "source": [
        "#1.9\n",
        "import numpy as np\n",
        "a=np.array([3,1,3,3,2])\n",
        "d={}\n",
        "c=0\n",
        "for i in a:\n",
        "  if i not in d:\n",
        "    d[i]=0\n",
        "  else:\n",
        "    d[i]+=1\n",
        "  if d[i]<c:\n",
        "    c=i\n",
        "print(i)"
      ],
      "metadata": {
        "id": "3kzNW9oFZXDK",
        "colab": {
          "base_uri": "https://localhost:8080/"
        },
        "outputId": "9aabd156-c12f-4a8b-f5fb-2ae4f478821f"
      },
      "execution_count": null,
      "outputs": [
        {
          "output_type": "stream",
          "name": "stdout",
          "text": [
            "2\n"
          ]
        }
      ]
    },
    {
      "cell_type": "code",
      "source": [
        "#1.10\n",
        "import numpy as np\n",
        "a=np.array([1, 3, 5, 8, 9, 2, 6, 7, 6, 8, 9])\n",
        "N=11\n",
        "s=0\n",
        "j=0\n",
        "for i in range(N):\n",
        "  if s==i:\n",
        "    s+=a[i]\n",
        "    j+=1\n",
        "print(j)"
      ],
      "metadata": {
        "id": "s8UBh_92bzxQ",
        "colab": {
          "base_uri": "https://localhost:8080/"
        },
        "outputId": "8c5a549d-2fc7-47d2-d268-bac45331ceef"
      },
      "execution_count": null,
      "outputs": [
        {
          "output_type": "stream",
          "name": "stdout",
          "text": [
            "3\n"
          ]
        }
      ]
    },
    {
      "cell_type": "code",
      "source": [
        "#1.11\n",
        "import numpy as np\n",
        "a=np.array([3, 9, 12, 16, 20] )\n",
        "N=5\n",
        "k=3\n",
        "for i in range(N):\n",
        "  if i<k:\n",
        "    a[i]+=k\n",
        "  else:\n",
        "    a[i]-=k\n",
        "d=a[-1]-a[0]\n",
        "print(d,a)"
      ],
      "metadata": {
        "id": "lEIR2FF5fAgb",
        "colab": {
          "base_uri": "https://localhost:8080/"
        },
        "outputId": "e746f529-06f5-47f0-ca23-5623149af72b"
      },
      "execution_count": null,
      "outputs": [
        {
          "output_type": "stream",
          "name": "stdout",
          "text": [
            "11 [ 6 12 15 13 17]\n"
          ]
        }
      ]
    },
    {
      "cell_type": "code",
      "source": [
        "#1.12\n",
        "import numpy as np\n",
        "a=np.array([900, 940, 950, 1100, 1500, 1800])\n",
        "d=np.array([910, 1200, 1120, 1130, 1900, 2000])\n",
        "n=6\n",
        "p = 1\n",
        "m= 1\n",
        "i = 1\n",
        "j = 0\n",
        "while i < n and j < n:\n",
        "  if a[i] <= d[j]:\n",
        "    p+= 1\n",
        "    i += 1\n",
        "    if m<p:\n",
        "      m=p\n",
        "  else:\n",
        "    p-= 1\n",
        "    j += 1\n",
        "print(m)"
      ],
      "metadata": {
        "id": "42MWaxJ2fe8C",
        "colab": {
          "base_uri": "https://localhost:8080/"
        },
        "outputId": "df8af057-9621-48b8-e441-04779d96ff79"
      },
      "execution_count": null,
      "outputs": [
        {
          "output_type": "stream",
          "name": "stdout",
          "text": [
            "3\n"
          ]
        }
      ]
    },
    {
      "cell_type": "code",
      "source": [
        "#1.13\n",
        "import numpy as np\n",
        "a=np.array([3, 4, 1, 9, 56, 7, 9, 12])\n",
        "a.sort()\n",
        "print(a)\n",
        "N = 8\n",
        "M = 5\n",
        "md=a[-1]-a[0]\n",
        "for i in range(N-M+1):\n",
        "  d=a[i+M-1]-a[i]\n",
        "  print(d)\n",
        "  if d<md:\n",
        "    md=d\n",
        "print(md)"
      ],
      "metadata": {
        "colab": {
          "base_uri": "https://localhost:8080/"
        },
        "id": "nw5HrmVZ5l4Z",
        "outputId": "8f248779-f2a8-44bd-fe80-2b0b841cf7da"
      },
      "execution_count": null,
      "outputs": [
        {
          "output_type": "stream",
          "name": "stdout",
          "text": [
            "[ 1  3  4  7  9  9 12 56]\n",
            "8\n",
            "6\n",
            "8\n",
            "49\n",
            "6\n"
          ]
        }
      ]
    },
    {
      "cell_type": "code",
      "source": [
        "#1.14\n",
        "import numpy as np\n",
        "a=np.array([2,6,1,9,4,5,3])\n",
        "a.sort()\n",
        "for i in range(len(a)):\n",
        "  if a[i]!=a[i+1]:\n",
        "    print(a[i])\n",
        "    break"
      ],
      "metadata": {
        "colab": {
          "base_uri": "https://localhost:8080/"
        },
        "id": "wKB3mXEDE3Zc",
        "outputId": "fba6531e-2deb-45fe-b836-b37fd4499f74"
      },
      "execution_count": null,
      "outputs": [
        {
          "output_type": "stream",
          "name": "stdout",
          "text": [
            "1\n"
          ]
        }
      ]
    },
    {
      "cell_type": "code",
      "source": [
        "#1.15\n",
        "import numpy as np\n",
        "a1=np.array([1,2])\n",
        "a2=np.array([3,4])\n",
        "a=np.concatenate((a1,a2))\n",
        "a.sort()\n",
        "if len(a)%2!=0:\n",
        "  print(a[(len(a)-1)//2])\n",
        "else:\n",
        "  n1=a[(len(a)-2)//2]\n",
        "  n2=a[((len(a)-2)//2)+1]\n",
        "  print((n1+n2)/2)"
      ],
      "metadata": {
        "colab": {
          "base_uri": "https://localhost:8080/"
        },
        "id": "qmjUgnZIfRqU",
        "outputId": "383b9fff-81ca-4f12-8a89-60c6651c89e5"
      },
      "execution_count": null,
      "outputs": [
        {
          "output_type": "stream",
          "name": "stdout",
          "text": [
            "2.5\n"
          ]
        }
      ]
    }
  ]
}